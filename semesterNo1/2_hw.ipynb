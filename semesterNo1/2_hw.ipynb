{
 "cells": [
  {
   "cell_type": "markdown",
   "metadata": {},
   "source": [
    "### 1. На вход подается текст, содержащий разные буквы латинского алфавита и символы пунктуации. Нужно найти букву, которая встречается чаще всего. Если таких букв больше одной, то нужно вернуть ту, что стоит выше в алфавите. Регистр букв не учитывается, то есть «А» == «а». "
   ]
  },
  {
   "cell_type": "code",
   "execution_count": 62,
   "metadata": {},
   "outputs": [
    {
     "data": {
      "text/plain": [
       "'L'"
      ]
     },
     "execution_count": 62,
     "metadata": {},
     "output_type": "execute_result"
    }
   ],
   "source": [
    "text = \"HelloWorld\"\n",
    "\n",
    "def dictCount(text):\n",
    "    d = dict()\n",
    "    maxv = 0\n",
    "    maxi = None\n",
    "    for i in sorted(text.upper()):\n",
    "        if(i.isalpha()):\n",
    "            d[i] = d.get(i,0) + 1\n",
    "            if(d[i] > maxv):\n",
    "                maxv = d[i]\n",
    "                maxi = i\n",
    "    return maxi\n",
    "\n",
    "dictCount(text)"
   ]
  },
  {
   "cell_type": "markdown",
   "metadata": {},
   "source": [
    "### 2. На вход подается строка, состоящая из слов и чисел, разделенных одним пробелом. Слова состоят только из букв. Определить, имеется ли в передаваемой строке непрерывная последовательность из трех слов. "
   ]
  },
  {
   "cell_type": "code",
   "execution_count": 2,
   "metadata": {},
   "outputs": [
    {
     "name": "stdout",
     "output_type": "stream",
     "text": [
      "Привет 0\n",
      "как 0\n",
      "как 1\n"
     ]
    },
    {
     "data": {
      "text/plain": [
       "True"
      ]
     },
     "execution_count": 2,
     "metadata": {},
     "output_type": "execute_result"
    }
   ],
   "source": [
    "text = \"Привет как как как дела 22 22 22 8\"\n",
    "\n",
    "def seq3Words(text):\n",
    "    rcount = 0\n",
    "    old = \"\"\n",
    "    for i in text.split(\" \"):\n",
    "        if(i == old and i.isalpha()):\n",
    "            if(rcount >= 1):\n",
    "                return True\n",
    "            rcount += 1\n",
    "        else:\n",
    "            rcount = 0\n",
    "        print(i ,rcount)\n",
    "        old = i\n",
    "    return False\n",
    "\n",
    "seq3Words(text)"
   ]
  },
  {
   "cell_type": "markdown",
   "metadata": {},
   "source": [
    "### 3. Найти максимальную длину непрерывной последовательности одинаковых букв во входной строке. \n",
    "\n",
    "Пример: «аааабббв» == 4 "
   ]
  },
  {
   "cell_type": "code",
   "execution_count": 1,
   "metadata": {},
   "outputs": [
    {
     "name": "stdout",
     "output_type": "stream",
     "text": [
      "3.91 µs ± 328 ns per loop (mean ± std. dev. of 7 runs, 100000 loops each)\n"
     ]
    },
    {
     "data": {
      "text/plain": [
       "{'т': 4}"
      ]
     },
     "execution_count": 1,
     "metadata": {},
     "output_type": "execute_result"
    }
   ],
   "source": [
    "text = \"привеееттттппока\"\n",
    "def maximch(text):\n",
    "    # maximum\n",
    "    m_count = 0\n",
    "    m_char = None\n",
    "    \n",
    "    # current\n",
    "    c_count = 0\n",
    "    c_char = ''\n",
    "\n",
    "    for i in text:\n",
    "        if(c_char == i):\n",
    "            c_count += 1\n",
    "            if(c_count > m_count):\n",
    "                m_count = c_count\n",
    "                m_char = c_char\n",
    "        else:\n",
    "            c_count = 1\n",
    "            c_char = i\n",
    "    return {m_char: m_count}\n",
    "\n",
    "%timeit maximch(text)\n",
    "maximch(text)"
   ]
  },
  {
   "cell_type": "markdown",
   "metadata": {},
   "source": [
    "### 4. На вход подается строка, содержащая латинские буквы, знаки пунктуации и пробелы. Необходимо вернуть строку собранную из букв в верхнем регистре соединенных без пробелов в порядке появления. \n",
    "\n",
    "\n",
    "Пример: f(‘HELL nO’) == ‘HELLO’ "
   ]
  },
  {
   "cell_type": "code",
   "execution_count": 4,
   "metadata": {},
   "outputs": [
    {
     "name": "stdout",
     "output_type": "stream",
     "text": [
      "3.4 µs ± 407 ns per loop (mean ± std. dev. of 7 runs, 100000 loops each)\n"
     ]
    },
    {
     "data": {
      "text/plain": [
       "'HELLNOVVORLD'"
      ]
     },
     "execution_count": 4,
     "metadata": {},
     "output_type": "execute_result"
    }
   ],
   "source": [
    "text = \"HELL n0 o VVoRld\"\n",
    "\n",
    "def toUp(text):\n",
    "    res = ''\n",
    "    for i in text:\n",
    "        if(i.isalpha()):\n",
    "            res += i\n",
    "    return res.upper()\n",
    "\n",
    "\n",
    "%timeit toUp(text)\n",
    "toUp(text)"
   ]
  },
  {
   "cell_type": "markdown",
   "metadata": {},
   "source": [
    "### 5. На вход подается массив чисел. Необходимо отсортировать массив по частоте элементов. Если два элемента имеют одинаковую частоту, то нужно отсортировать по порядку появления в массиве. \n",
    "\n",
    "Пример: [4,4,6,4,2,2,4,6] => [4,4,4,4,6,6,2,2] "
   ]
  },
  {
   "cell_type": "code",
   "execution_count": 5,
   "metadata": {},
   "outputs": [
    {
     "data": {
      "text/plain": [
       "[4, 4, 4, 4, 6, 6, 2, 2, 8, 7]"
      ]
     },
     "execution_count": 5,
     "metadata": {},
     "output_type": "execute_result"
    }
   ],
   "source": [
    "def freqSort(l = [4,4,6,4,2,2,4,6,8,7]):\n",
    "    d = {key: list([-1,0]) for key in l }\n",
    "    for i in range(len(l)):\n",
    "        # d {цифра: [первое вхождение, количество вхождений]}\n",
    "        eld = d[l[i]] # Элемент словаря\n",
    "        # Узнаем позицию первого вхождения\n",
    "        if(eld[0] == -1):\n",
    "            eld[0] = i\n",
    "        # Считаем количество вхождений\n",
    "        eld[1] += 1\n",
    "        \n",
    "    # Сортируем массив по двум условиям: \n",
    "    #     1. по количеству вхождений, \n",
    "    #     2. по индексу первого вхождения\n",
    "    srtd = sorted(d.items(), key=lambda char: (char[1][0], char[1][1]))\n",
    "    \n",
    "    res = []\n",
    "    \n",
    "    [[res.append(i[0]) for j in range(i[1][1])] for i in srtd]\n",
    "    # то же самое, только некомпактно:\n",
    "#     for i in srtd:\n",
    "#         # [res.append(i[0]) for j in range(i[1][1])]\n",
    "#         for j in range(i[1][1]):\n",
    "#             res.append(i[0])\n",
    "\n",
    "    return res\n",
    "\n",
    "freqSort()"
   ]
  },
  {
   "cell_type": "markdown",
   "metadata": {},
   "source": [
    "### 6. На вход подается список уникальных значений (set) и одно число. Необходимо вернуть ближайшее ко входному значение из списка. Если значений два, то нужно вернуть наименьшее. В задаче участвуют только целые числа. \n",
    "\n",
    "Пример: f({1, 2, 4, 5}, 3) == 2 "
   ]
  },
  {
   "cell_type": "code",
   "execution_count": 61,
   "metadata": {},
   "outputs": [
    {
     "name": "stdout",
     "output_type": "stream",
     "text": [
      "0 1\n",
      "1 1\n",
      "2 2\n",
      "3 2\n",
      "4 4\n",
      "5 5\n",
      "6 5\n",
      "7 5\n",
      "8 5\n",
      "9 9\n",
      "10 9\n",
      "11 9\n"
     ]
    },
    {
     "data": {
      "text/plain": [
       "''"
      ]
     },
     "execution_count": 61,
     "metadata": {},
     "output_type": "execute_result"
    }
   ],
   "source": [
    "def nearMin(s = {1,2,4,5,9}, k = 7):\n",
    "    left = float('-inf')\n",
    "    right = float('inf')\n",
    "    for i in s:\n",
    "        if(i == k):\n",
    "            return k\n",
    "        if(i < k and i > left):\n",
    "            left = i\n",
    "        if(i > k and i < right):\n",
    "            right = i\n",
    "    # Обрабатываем результаты\n",
    "    \n",
    "    # Если число меньше левой границы\n",
    "    if(left == float('-inf')):\n",
    "        return right\n",
    "    # Если число больше правой границы\n",
    "    if(right == float('inf')):\n",
    "        return left\n",
    "    return left\n",
    "[print(i, nearMin({1,2,4,5,9}, i)) for i in range(12)]\n",
    ";"
   ]
  },
  {
   "cell_type": "markdown",
   "metadata": {},
   "source": [
    "### 7. Необходимо найти количество путей, которыми шашка может пройти в дамки по шахматной доске 8x8, при условии, что двигаться можно только по диагонали вверх. На вход подается две координаты стартовой позиции. "
   ]
  },
  {
   "cell_type": "code",
   "execution_count": null,
   "metadata": {},
   "outputs": [],
   "source": []
  }
 ],
 "metadata": {
  "kernelspec": {
   "display_name": "Python 3",
   "language": "python",
   "name": "python3"
  },
  "language_info": {
   "codemirror_mode": {
    "name": "ipython",
    "version": 3
   },
   "file_extension": ".py",
   "mimetype": "text/x-python",
   "name": "python",
   "nbconvert_exporter": "python",
   "pygments_lexer": "ipython3",
   "version": "3.7.4"
  }
 },
 "nbformat": 4,
 "nbformat_minor": 2
}
