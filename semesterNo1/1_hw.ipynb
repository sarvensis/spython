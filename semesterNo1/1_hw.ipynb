{
 "cells": [
  {
   "cell_type": "markdown",
   "metadata": {},
   "source": [
    "### 1. Вернуть первый элемент, третий элемент, второй с конца элемент входного массива."
   ]
  },
  {
   "cell_type": "code",
   "execution_count": 13,
   "metadata": {},
   "outputs": [],
   "source": [
    "arr = range(10)\n",
    "N = 6"
   ]
  },
  {
   "cell_type": "code",
   "execution_count": 9,
   "metadata": {},
   "outputs": [],
   "source": [
    "def return_1(arr):\n",
    "    return arr[1]\n",
    "def return_3(arr):\n",
    "    return arr[3]\n",
    "def return_m2(arr):\n",
    "    return arr[-2]"
   ]
  },
  {
   "cell_type": "code",
   "execution_count": 21,
   "metadata": {},
   "outputs": [
    {
     "name": "stdout",
     "output_type": "stream",
     "text": [
      "1\n",
      "3\n"
     ]
    },
    {
     "data": {
      "text/plain": [
       "8"
      ]
     },
     "execution_count": 21,
     "metadata": {},
     "output_type": "execute_result"
    }
   ],
   "source": [
    "print(retrun_1(arr))\n",
    "print(return_3(arr))\n",
    "return_m2(arr)"
   ]
  },
  {
   "cell_type": "markdown",
   "metadata": {},
   "source": [
    "### 2. Дан массив чисел и число N. Возвести число в позиции N в степень N. Если это невозможно, то вернуть -1."
   ]
  },
  {
   "cell_type": "code",
   "execution_count": 22,
   "metadata": {},
   "outputs": [],
   "source": [
    "def powe2(arr, N):\n",
    "    if(len(arr) < N):\n",
    "        return -1\n",
    "    return arr[N] ** N"
   ]
  },
  {
   "cell_type": "code",
   "execution_count": 24,
   "metadata": {},
   "outputs": [
    {
     "name": "stdout",
     "output_type": "stream",
     "text": [
      "46656\n",
      "-1\n"
     ]
    }
   ],
   "source": [
    "print(powe2(arr, 6))\n",
    "print(powe2(arr, 123))"
   ]
  },
  {
   "cell_type": "markdown",
   "metadata": {},
   "source": [
    "### 3. Найти второй индекс входного символа во входной строке.\n",
    "Пример: f(«сбербанк», «б») == 4\n"
   ]
  },
  {
   "cell_type": "code",
   "execution_count": 42,
   "metadata": {},
   "outputs": [
    {
     "data": {
      "text/plain": [
       "-1"
      ]
     },
     "execution_count": 42,
     "metadata": {},
     "output_type": "execute_result"
    }
   ],
   "source": [
    "def findTwo(string, char):\n",
    "    findOne = False\n",
    "    # гуглил функцию enumerate\n",
    "    for i,v in enumerate(string):\n",
    "        if v == char:\n",
    "            if findOne:\n",
    "                return i\n",
    "            findOne = True\n",
    "    return -1\n",
    "\n",
    "findTwo(\"Сбербанк\", \"б\")\n",
    "findTwo(\"123\",\"4\")"
   ]
  },
  {
   "cell_type": "markdown",
   "metadata": {},
   "source": [
    "### 4.\tНайти количество нулей в конце входного числа.\n",
    "Пример: f(101100110100) == 2\n"
   ]
  },
  {
   "cell_type": "code",
   "execution_count": 60,
   "metadata": {},
   "outputs": [
    {
     "data": {
      "text/plain": [
       "2"
      ]
     },
     "execution_count": 60,
     "metadata": {},
     "output_type": "execute_result"
    }
   ],
   "source": [
    "def rightZero(string):\n",
    "    string = str(string)\n",
    "    score = 0\n",
    "    for i in string[::-1]:\n",
    "        if(i != \"0\"):\n",
    "            return score\n",
    "        score += 1\n",
    "    \n",
    "rightZero(101100110100)"
   ]
  },
  {
   "cell_type": "markdown",
   "metadata": {},
   "source": [
    "### 5.\tПредставить входную строку в обратном порядке."
   ]
  },
  {
   "cell_type": "code",
   "execution_count": 61,
   "metadata": {},
   "outputs": [
    {
     "data": {
      "text/plain": [
       "'rebS'"
      ]
     },
     "execution_count": 61,
     "metadata": {},
     "output_type": "execute_result"
    }
   ],
   "source": [
    "def reverse(string):\n",
    "    return string[::-1]\n",
    "reverse(\"Sber\")"
   ]
  },
  {
   "cell_type": "markdown",
   "metadata": {},
   "source": [
    "### 6.\tПроверить состоит ли входной массив исключительного из одного и того же значения."
   ]
  },
  {
   "cell_type": "code",
   "execution_count": 63,
   "metadata": {},
   "outputs": [
    {
     "name": "stdout",
     "output_type": "stream",
     "text": [
      "False\n",
      "True\n"
     ]
    }
   ],
   "source": [
    "def validate(arr):\n",
    "    first = arr[0]\n",
    "    for i in arr:\n",
    "        if(i != first):\n",
    "            return False\n",
    "    return True\n",
    "\n",
    "print(validate(range(13)))\n",
    "print(validate([1,1,1,1,1,1]))"
   ]
  },
  {
   "cell_type": "markdown",
   "metadata": {},
   "source": [
    "### 7.\tПроверить сложность пароля во входной строке. Пароль должен содержать, как минимум, одну букву в нижнем регистре, одну букву в верхнем регистре, одну цифру и не содержит никаких других символов. Минимальная длина пароля 16 символов."
   ]
  },
  {
   "cell_type": "code",
   "execution_count": 113,
   "metadata": {},
   "outputs": [
    {
     "name": "stdout",
     "output_type": "stream",
     "text": [
      "True\n",
      "True\n"
     ]
    }
   ],
   "source": [
    "import re\n",
    "\n",
    "def validPass(string):\n",
    "    # гуглил регулярки, т.к. их забыл \n",
    "    if len(string) < 1 \\\n",
    "    or len(re.findall(\"[^\\[A-Za-z\\]\\d]\",string)) > 0 \\\n",
    "    or len(re.findall(\"[a-z]\",string)) < 1 \\\n",
    "    or len(re.findall(\"[A-Z]\",string)) < 1 \\\n",
    "    or len(re.findall(\"\\d\",string)) < 1:\n",
    "        return False\n",
    "    return True\n",
    "    \n",
    "print(validPass(\"f123mQW\"))\n",
    "print(validPass(\"ZZaa1\"))"
   ]
  },
  {
   "cell_type": "markdown",
   "metadata": {},
   "source": [
    "### 8.\tВо входном списке имеются вложенные списки, которые также могут иметь вложенные списки. Необходимо вытянуть список в одномерный массив (flatten)."
   ]
  },
  {
   "cell_type": "code",
   "execution_count": 146,
   "metadata": {
    "scrolled": true
   },
   "outputs": [
    {
     "name": "stdout",
     "output_type": "stream",
     "text": [
      "[1 2 2 3 3 4 4 5]\n"
     ]
    },
    {
     "data": {
      "text/plain": [
       "array([1, 2, 3, 4, 5])"
      ]
     },
     "execution_count": 146,
     "metadata": {},
     "output_type": "execute_result"
    }
   ],
   "source": [
    "# Обойтись без сторонних \n",
    "import numpy as np\n",
    "\n",
    "arr = np.array([[1,2], [2,3], [3,4], [4,5]])\n",
    "#arr = np.arange(10).reshape(2,5)\n",
    "\n",
    "print(arr.flatten())\n",
    "np.unique(arr.flatten())"
   ]
  },
  {
   "cell_type": "code",
   "execution_count": 23,
   "metadata": {},
   "outputs": [
    {
     "data": {
      "text/plain": [
       "[1, 2, 3, 4, 5]"
      ]
     },
     "execution_count": 23,
     "metadata": {},
     "output_type": "execute_result"
    }
   ],
   "source": [
    "l = [1,2,3]\n",
    "l.extend([4,5])\n",
    "l"
   ]
  },
  {
   "cell_type": "code",
   "execution_count": 25,
   "metadata": {},
   "outputs": [
    {
     "data": {
      "text/plain": [
       "[1, 2, 3, 4, 5, 6, 7, 8, 9, 1, 0, 1, 1, 12, 13]"
      ]
     },
     "execution_count": 25,
     "metadata": {},
     "output_type": "execute_result"
    }
   ],
   "source": [
    "arr = [1,2,[3,4,5],[6,7],8,9,[[1,0],[1,1],[12,13]]]\n",
    "arr\n",
    "\n",
    "def findElementsInLists(list_elem):\n",
    "    res = []\n",
    "    for i in list_elem:\n",
    "        if(type(i) is list):\n",
    "            res.extend(findElementsInLists(i))\n",
    "        else:\n",
    "            res.append(i)\n",
    "    return res\n",
    "\n",
    "findElementsInLists(arr)"
   ]
  },
  {
   "cell_type": "markdown",
   "metadata": {},
   "source": [
    "### 9.\tНа вход принимается словарь(dict), в котором ключами являются строки (str), а значениями числа (float). Необходимо вернуть ключ максимального значения."
   ]
  },
  {
   "cell_type": "code",
   "execution_count": 159,
   "metadata": {},
   "outputs": [
    {
     "name": "stdout",
     "output_type": "stream",
     "text": [
      "{'0': 0.0, '1': 1.0, '2': 4.0, '3': 9.0, '4': 16.0, '5': 25.0, '6': 36.0, '999': 7.0}\n"
     ]
    },
    {
     "data": {
      "text/plain": [
       "'6'"
      ]
     },
     "execution_count": 159,
     "metadata": {},
     "output_type": "execute_result"
    }
   ],
   "source": [
    "def keyMax(dictionary):\n",
    "    mv = 0.0\n",
    "    mk = None\n",
    "    # гуглил items()\n",
    "    for k, v in dictionary.items():\n",
    "        if(v > mv):\n",
    "            mv = v\n",
    "            mk = k\n",
    "    return mk\n",
    "    \n",
    "dictionary = {str(a): a ** 2.0 for a in range(7)}\n",
    "#гуглил update()\n",
    "dictionary.update({\"999\":7.0})\n",
    "print(dictionary)\n",
    "keyMax(dictionary)"
   ]
  },
  {
   "cell_type": "markdown",
   "metadata": {},
   "source": [
    "### 10.\tДан непустой список целых чисел (X). Необходимо вернуть список, содержащий только неуникальные значения из входного списка. Порядок чисел не должен меняться.\n",
    "Пример: [1,2,3,1,3] => [1,3,1,3]"
   ]
  },
  {
   "cell_type": "code",
   "execution_count": 170,
   "metadata": {},
   "outputs": [
    {
     "data": {
      "text/plain": [
       "[1, 3, 1, 3]"
      ]
     },
     "execution_count": 170,
     "metadata": {},
     "output_type": "execute_result"
    }
   ],
   "source": [
    "def noUnique(arr):\n",
    "    duplicates = []\n",
    "    for v in arr:\n",
    "        if(arr.count(v) > 1):\n",
    "            duplicates.append(v) \n",
    "    return duplicates\n",
    "\n",
    "array = [1,2,3,1,3]\n",
    "noUnique(array)"
   ]
  }
 ],
 "metadata": {
  "kernelspec": {
   "display_name": "Python 3",
   "language": "python",
   "name": "python3"
  },
  "language_info": {
   "codemirror_mode": {
    "name": "ipython",
    "version": 3
   },
   "file_extension": ".py",
   "mimetype": "text/x-python",
   "name": "python",
   "nbconvert_exporter": "python",
   "pygments_lexer": "ipython3",
   "version": "3.7.4"
  }
 },
 "nbformat": 4,
 "nbformat_minor": 2
}
