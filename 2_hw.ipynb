{
 "cells": [
  {
   "cell_type": "markdown",
   "metadata": {},
   "source": [
    "### 1. На вход подается текст, содержащий разные буквы латинского алфавита и символы пунктуации. Нужно найти букву, которая встречается чаще всего. Если таких букв больше одной, то нужно вернуть ту, что стоит выше в алфавите. Регистр букв не учитывается, то есть «А» == «а». "
   ]
  },
  {
   "cell_type": "code",
   "execution_count": 1,
   "metadata": {},
   "outputs": [
    {
     "data": {
      "text/plain": [
       "'L'"
      ]
     },
     "execution_count": 1,
     "metadata": {},
     "output_type": "execute_result"
    }
   ],
   "source": [
    "text = \"HelloWorld\"\n",
    "\n",
    "def dictCount(text):\n",
    "    d = dict()\n",
    "    maxv = 0\n",
    "    maxi = None\n",
    "    for i in sorted(text.upper()):\n",
    "        if(i.isalpha()):\n",
    "            d[i] = d.get(i,0) + 1\n",
    "            if(d[i] > maxv):\n",
    "                maxv = d[i]\n",
    "                maxi = i\n",
    "    return maxi\n",
    "\n",
    "dictCount(text)"
   ]
  },
  {
   "cell_type": "markdown",
   "metadata": {},
   "source": [
    "### 2. На вход подается строка, состоящая из слов и чисел, разделенных одним пробелом. Слова состоят только из букв. Определить, имеется ли в передаваемой строке непрерывная последовательность из трех слов. "
   ]
  },
  {
   "cell_type": "code",
   "execution_count": 3,
   "metadata": {},
   "outputs": [
    {
     "data": {
      "text/plain": [
       "True"
      ]
     },
     "execution_count": 3,
     "metadata": {},
     "output_type": "execute_result"
    }
   ],
   "source": [
    "text = \"Привет как как как дела 22 22 22 8\"\n",
    "\n",
    "def seq3Words(text):\n",
    "    rcount = 0\n",
    "    old = \"\"\n",
    "    for i in text.split(\" \"):\n",
    "        if(i == old and i.isalpha()):\n",
    "            if(rcount >= 1):\n",
    "                return True\n",
    "            rcount += 1\n",
    "        else:\n",
    "            rcount = 0\n",
    "        old = i\n",
    "    return False\n",
    "\n",
    "seq3Words(text)"
   ]
  },
  {
   "cell_type": "markdown",
   "metadata": {},
   "source": [
    "### 3. Найти максимальную длину непрерывной последовательности одинаковых букв во входной строке. \n",
    "Пример: «аааабббв» == 4 \n"
   ]
  },
  {
   "cell_type": "code",
   "execution_count": 21,
   "metadata": {},
   "outputs": [
    {
     "name": "stdout",
     "output_type": "stream",
     "text": [
      "б 1 0\n",
      "в 1 0\n"
     ]
    },
    {
     "data": {
      "text/plain": [
       "0"
      ]
     },
     "execution_count": 21,
     "metadata": {},
     "output_type": "execute_result"
    }
   ],
   "source": [
    "text = \"фбв\"\n",
    "\n",
    "def lenRepChars(text):\n",
    "    mi = None\n",
    "    maxscore = 0 # Максимальное знаение\n",
    "    score = 1 # Текущее начение с уче \n",
    "    old = text[0]\n",
    "    for i in text[1:]:\n",
    "        if(i == old and i.isalpha()):\n",
    "            score += 1\n",
    "            if(maxscore < score):\n",
    "                maxscore = score\n",
    "            \n",
    "        else:\n",
    "            score = 1 \n",
    "            # С учетом поправки на первый символ\n",
    "            # непрерывной последовательности\n",
    "        print(i, score, maxscore)\n",
    "        old = i\n",
    "        \n",
    "    return maxscore \n",
    "lenRepChars(text)"
   ]
  },
  {
   "cell_type": "markdown",
   "metadata": {},
   "source": [
    "### 4.\tНа вход подается строка, содержащая латинские буквы, знаки пунктуации и пробелы. Необходимо вернуть строку собранную из букв в верхнем регистре соединенных без пробелов в порядке появления. \n",
    "Пример: f(‘HELL nO’) == ‘HELLO’"
   ]
  },
  {
   "cell_type": "markdown",
   "metadata": {},
   "source": [
    "### 5.\tНа вход подается массив чисел. Необходимо отсортировать массив по частоте элементов. Если два элемента имеют одинаковую частоту, то нужно отсортировать по порядку появления в массиве. \n",
    "Пример: [4,4,6,4,2,2,4,6] => [4,4,4,4,6,6,2,2] "
   ]
  },
  {
   "cell_type": "markdown",
   "metadata": {},
   "source": [
    "### 6.\tНа вход подается список уникальных значений (set) и одно число. Необходимо вернуть ближайшее ко входному значение из списка. Если значений два, то нужно вернуть наименьшее. В задаче участвуют только целые числа. \n",
    "Пример: f({1, 2, 4, 5}, 3) == 2 "
   ]
  },
  {
   "cell_type": "markdown",
   "metadata": {},
   "source": [
    "### 7.\tНеобходимо найти количество путей, которыми шашка может пройти в дамки по шахматной доске 8x8, при условии, что двигаться можно только по диагонали вверх. На вход подается две координаты стартовой позиции. "
   ]
  }
 ],
 "metadata": {
  "kernelspec": {
   "display_name": "Python 3",
   "language": "python",
   "name": "python3"
  },
  "language_info": {
   "codemirror_mode": {
    "name": "ipython",
    "version": 3
   },
   "file_extension": ".py",
   "mimetype": "text/x-python",
   "name": "python",
   "nbconvert_exporter": "python",
   "pygments_lexer": "ipython3",
   "version": "3.7.4"
  }
 },
 "nbformat": 4,
 "nbformat_minor": 2
}
